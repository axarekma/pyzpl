{
 "cells": [
  {
   "cell_type": "code",
   "execution_count": 59,
   "metadata": {
    "ExecuteTime": {
     "end_time": "2021-01-15T11:23:08.376266Z",
     "start_time": "2021-01-15T11:23:08.308828Z"
    }
   },
   "outputs": [
    {
     "name": "stdout",
     "output_type": "stream",
     "text": [
      "The autoreload extension is already loaded. To reload it, use:\n",
      "  %reload_ext autoreload\n",
      "The nb_black extension is already loaded. To reload it, use:\n",
      "  %reload_ext nb_black\n"
     ]
    },
    {
     "data": {
      "application/javascript": [
       "\n",
       "            setTimeout(function() {\n",
       "                var nbb_cell_id = 59;\n",
       "                var nbb_unformatted_code = \"# Basic Template\\n%load_ext autoreload\\n%autoreload 2\\n%matplotlib inline\\n%load_ext nb_black\\nimport numpy as np\\nimport matplotlib.pyplot as plt\\nimport os\\nfrom pathlib import Path\";\n",
       "                var nbb_formatted_code = \"# Basic Template\\n%load_ext autoreload\\n%autoreload 2\\n%matplotlib inline\\n%load_ext nb_black\\nimport numpy as np\\nimport matplotlib.pyplot as plt\\nimport os\\nfrom pathlib import Path\";\n",
       "                var nbb_cells = Jupyter.notebook.get_cells();\n",
       "                for (var i = 0; i < nbb_cells.length; ++i) {\n",
       "                    if (nbb_cells[i].input_prompt_number == nbb_cell_id) {\n",
       "                        if (nbb_cells[i].get_text() == nbb_unformatted_code) {\n",
       "                             nbb_cells[i].set_text(nbb_formatted_code);\n",
       "                        }\n",
       "                        break;\n",
       "                    }\n",
       "                }\n",
       "            }, 500);\n",
       "            "
      ],
      "text/plain": [
       "<IPython.core.display.Javascript object>"
      ]
     },
     "metadata": {},
     "output_type": "display_data"
    }
   ],
   "source": [
    "# Basic Template\n",
    "%load_ext autoreload\n",
    "%autoreload 2\n",
    "%matplotlib inline\n",
    "%load_ext nb_black\n",
    "import numpy as np\n",
    "import matplotlib.pyplot as plt\n",
    "import os\n",
    "from pathlib import Path"
   ]
  },
  {
   "cell_type": "code",
   "execution_count": 60,
   "metadata": {
    "ExecuteTime": {
     "end_time": "2021-01-15T11:23:08.501562Z",
     "start_time": "2021-01-15T11:23:08.446209Z"
    }
   },
   "outputs": [
    {
     "data": {
      "application/javascript": [
       "\n",
       "            setTimeout(function() {\n",
       "                var nbb_cell_id = 60;\n",
       "                var nbb_unformatted_code = \"from pyzemax import (\\n    NSC,\\n    NSCObject,\\n    NSCSource,\\n    NSCDetector,\\n    read_ddr,\\n    incoherent_irradiance,\\n    coherent_irradiance,\\n)\";\n",
       "                var nbb_formatted_code = \"from pyzemax import (\\n    NSC,\\n    NSCObject,\\n    NSCSource,\\n    NSCDetector,\\n    read_ddr,\\n    incoherent_irradiance,\\n    coherent_irradiance,\\n)\";\n",
       "                var nbb_cells = Jupyter.notebook.get_cells();\n",
       "                for (var i = 0; i < nbb_cells.length; ++i) {\n",
       "                    if (nbb_cells[i].input_prompt_number == nbb_cell_id) {\n",
       "                        if (nbb_cells[i].get_text() == nbb_unformatted_code) {\n",
       "                             nbb_cells[i].set_text(nbb_formatted_code);\n",
       "                        }\n",
       "                        break;\n",
       "                    }\n",
       "                }\n",
       "            }, 500);\n",
       "            "
      ],
      "text/plain": [
       "<IPython.core.display.Javascript object>"
      ]
     },
     "metadata": {},
     "output_type": "display_data"
    }
   ],
   "source": [
    "from pyzemax import (\n",
    "    NSC,\n",
    "    NSCObject,\n",
    "    NSCSource,\n",
    "    NSCDetector,\n",
    "    read_ddr,\n",
    "    incoherent_irradiance,\n",
    "    coherent_irradiance,\n",
    ")"
   ]
  },
  {
   "cell_type": "markdown",
   "metadata": {},
   "source": [
    "### Example macro\n",
    "NCS is a class that holds the macro"
   ]
  },
  {
   "cell_type": "code",
   "execution_count": 61,
   "metadata": {
    "ExecuteTime": {
     "end_time": "2021-01-15T11:23:09.176975Z",
     "start_time": "2021-01-15T11:23:09.122631Z"
    }
   },
   "outputs": [
    {
     "data": {
      "application/javascript": [
       "\n",
       "            setTimeout(function() {\n",
       "                var nbb_cell_id = 61;\n",
       "                var nbb_unformatted_code = \"macro = NSC()\";\n",
       "                var nbb_formatted_code = \"macro = NSC()\";\n",
       "                var nbb_cells = Jupyter.notebook.get_cells();\n",
       "                for (var i = 0; i < nbb_cells.length; ++i) {\n",
       "                    if (nbb_cells[i].input_prompt_number == nbb_cell_id) {\n",
       "                        if (nbb_cells[i].get_text() == nbb_unformatted_code) {\n",
       "                             nbb_cells[i].set_text(nbb_formatted_code);\n",
       "                        }\n",
       "                        break;\n",
       "                    }\n",
       "                }\n",
       "            }, 500);\n",
       "            "
      ],
      "text/plain": [
       "<IPython.core.display.Javascript object>"
      ]
     },
     "metadata": {},
     "output_type": "display_data"
    }
   ],
   "source": [
    "macro = NSC()"
   ]
  },
  {
   "cell_type": "markdown",
   "metadata": {},
   "source": [
    "### Setup a 2d sim"
   ]
  },
  {
   "cell_type": "code",
   "execution_count": 62,
   "metadata": {
    "ExecuteTime": {
     "end_time": "2021-01-15T11:23:09.863714Z",
     "start_time": "2021-01-15T11:23:09.801625Z"
    }
   },
   "outputs": [
    {
     "data": {
      "application/javascript": [
       "\n",
       "            setTimeout(function() {\n",
       "                var nbb_cell_id = 62;\n",
       "                var nbb_unformatted_code = \"n_detectors = 1\\nsystem_radius = 0.1\\nsystem_material = \\\"WATER\\\"\\n\\nenvironment_parameters = [(1, 2 * system_radius), (2, 1)]\\nenvironment_properites = [(141, 1), (4, system_material)]\\n# 141 Sets the do not draw object checkbox. Use 1 for checked, 0 for unchecked.\\n\\nmacro.add(\\n    NSCObject(\\n        \\\"Sphere\\\",\\n        (0, 0, 0, 0, 0, 0),\\n        parameters=environment_parameters,\\n        properties=environment_properites,\\n    )\\n)\";\n",
       "                var nbb_formatted_code = \"n_detectors = 1\\nsystem_radius = 0.1\\nsystem_material = \\\"WATER\\\"\\n\\nenvironment_parameters = [(1, 2 * system_radius), (2, 1)]\\nenvironment_properites = [(141, 1), (4, system_material)]\\n# 141 Sets the do not draw object checkbox. Use 1 for checked, 0 for unchecked.\\n\\nmacro.add(\\n    NSCObject(\\n        \\\"Sphere\\\",\\n        (0, 0, 0, 0, 0, 0),\\n        parameters=environment_parameters,\\n        properties=environment_properites,\\n    )\\n)\";\n",
       "                var nbb_cells = Jupyter.notebook.get_cells();\n",
       "                for (var i = 0; i < nbb_cells.length; ++i) {\n",
       "                    if (nbb_cells[i].input_prompt_number == nbb_cell_id) {\n",
       "                        if (nbb_cells[i].get_text() == nbb_unformatted_code) {\n",
       "                             nbb_cells[i].set_text(nbb_formatted_code);\n",
       "                        }\n",
       "                        break;\n",
       "                    }\n",
       "                }\n",
       "            }, 500);\n",
       "            "
      ],
      "text/plain": [
       "<IPython.core.display.Javascript object>"
      ]
     },
     "metadata": {},
     "output_type": "display_data"
    }
   ],
   "source": [
    "n_detectors = 1\n",
    "system_radius = 0.1\n",
    "system_material = \"WATER\"\n",
    "\n",
    "environment_parameters = [(1, 2 * system_radius), (2, 1)]\n",
    "environment_properites = [(141, 1), (4, system_material)]\n",
    "# 141 Sets the do not draw object checkbox. Use 1 for checked, 0 for unchecked.\n",
    "\n",
    "macro.add(\n",
    "    NSCObject(\n",
    "        \"Sphere\",\n",
    "        (0, 0, 0, 0, 0, 0),\n",
    "        parameters=environment_parameters,\n",
    "        properties=environment_properites,\n",
    "    )\n",
    ")"
   ]
  },
  {
   "cell_type": "markdown",
   "metadata": {},
   "source": [
    "### Source"
   ]
  },
  {
   "cell_type": "code",
   "execution_count": 63,
   "metadata": {
    "ExecuteTime": {
     "end_time": "2021-01-15T11:23:10.704134Z",
     "start_time": "2021-01-15T11:23:10.624713Z"
    }
   },
   "outputs": [
    {
     "data": {
      "application/javascript": [
       "\n",
       "            setTimeout(function() {\n",
       "                var nbb_cell_id = 63;\n",
       "                var nbb_unformatted_code = \"def rotate(x, y, angle_deg):\\n    theta = np.radians(angle_deg)\\n    x_new = (x * np.cos(theta)) - (y * np.sin(theta))\\n    y_new = (x * np.sin(theta)) + (y * np.cos(theta))\\n    return x_new, y_new\\n\\n\\ndef source_size(height, width, angle):\\n    points = [(height, width), (height, -width), (-height, width), (-height, -width)]\\n    rot_points = [rotate(*p, angle) for p in points]\\n    h = max([abs(p[0]) for p in rot_points])\\n    w = max([abs(p[1]) for p in rot_points])\\n    return h, w\\n\\n\\ndef sim_source_positions(radius, angle, z_offset=0):\\n    retval = []\\n    for ang in [-angle, 0, angle]:\\n        z, x = rotate(-1, 0, ang)\\n        y = 0\\n        pos = (radius * x, radius * y, radius * z + z_offset, 0, ang, 0)\\n        retval.append(pos)\\n    return retval\\n\\n\\npolarization_angle = 0\\ngrid_angle = 0\\nanalysis_rays = 1e6\\nzeroth = True\\nillumination_phase = 0\\nillumination_angle = 65\\nillumination_z_offset = 0\\n\\n# SOURCE\\nJx, Jy = rotate(1, 0, polarization_angle)\\nsource_half_width, source_half_height = source_size(\\n    detector_half_width, detector_half_height, grid_angle\\n)\\nsourceparameters = [\\n    (1, 10),  # Layout rays\\n    (2, analysis_rays),  # Analysis rays\\n    (6, 1.1 * source_half_width),  # width\\n    (7, 1.1 * source_half_height),  # height\\n]\\nsourcepos = sim_source_positions if zeroth else sim_source_positions_2d\\ndiff_order = [-1, 0, 1] if zeroth else [-1, 1]\\n\\nsource_properties = [\\n    [\\n        (3, 1),  # inside of\\n        (101, 1),  # raandoma polarixation\\n        (107, k * illumination_phase),  # phase\\n        # (103, Jx),  # Jones X\\n        # (104, Jy),  # Jones Y\\n    ]\\n    for k in diff_order\\n]\\n\\nfor pos, prop in zip(\\n    sourcepos(system_radius, illumination_angle, illumination_z_offset),\\n    source_properties,\\n):\\n    macro.add(\\n        NSCSource(\\n            \\\"Source Rectangle\\\",\\n            pos,\\n            parameters=sourceparameters,\\n            properties=prop,\\n        )\\n    )\";\n",
       "                var nbb_formatted_code = \"def rotate(x, y, angle_deg):\\n    theta = np.radians(angle_deg)\\n    x_new = (x * np.cos(theta)) - (y * np.sin(theta))\\n    y_new = (x * np.sin(theta)) + (y * np.cos(theta))\\n    return x_new, y_new\\n\\n\\ndef source_size(height, width, angle):\\n    points = [(height, width), (height, -width), (-height, width), (-height, -width)]\\n    rot_points = [rotate(*p, angle) for p in points]\\n    h = max([abs(p[0]) for p in rot_points])\\n    w = max([abs(p[1]) for p in rot_points])\\n    return h, w\\n\\n\\ndef sim_source_positions(radius, angle, z_offset=0):\\n    retval = []\\n    for ang in [-angle, 0, angle]:\\n        z, x = rotate(-1, 0, ang)\\n        y = 0\\n        pos = (radius * x, radius * y, radius * z + z_offset, 0, ang, 0)\\n        retval.append(pos)\\n    return retval\\n\\n\\npolarization_angle = 0\\ngrid_angle = 0\\nanalysis_rays = 1e6\\nzeroth = True\\nillumination_phase = 0\\nillumination_angle = 65\\nillumination_z_offset = 0\\n\\n# SOURCE\\nJx, Jy = rotate(1, 0, polarization_angle)\\nsource_half_width, source_half_height = source_size(\\n    detector_half_width, detector_half_height, grid_angle\\n)\\nsourceparameters = [\\n    (1, 10),  # Layout rays\\n    (2, analysis_rays),  # Analysis rays\\n    (6, 1.1 * source_half_width),  # width\\n    (7, 1.1 * source_half_height),  # height\\n]\\nsourcepos = sim_source_positions if zeroth else sim_source_positions_2d\\ndiff_order = [-1, 0, 1] if zeroth else [-1, 1]\\n\\nsource_properties = [\\n    [\\n        (3, 1),  # inside of\\n        (101, 1),  # raandoma polarixation\\n        (107, k * illumination_phase),  # phase\\n        # (103, Jx),  # Jones X\\n        # (104, Jy),  # Jones Y\\n    ]\\n    for k in diff_order\\n]\\n\\nfor pos, prop in zip(\\n    sourcepos(system_radius, illumination_angle, illumination_z_offset),\\n    source_properties,\\n):\\n    macro.add(\\n        NSCSource(\\n            \\\"Source Rectangle\\\",\\n            pos,\\n            parameters=sourceparameters,\\n            properties=prop,\\n        )\\n    )\";\n",
       "                var nbb_cells = Jupyter.notebook.get_cells();\n",
       "                for (var i = 0; i < nbb_cells.length; ++i) {\n",
       "                    if (nbb_cells[i].input_prompt_number == nbb_cell_id) {\n",
       "                        if (nbb_cells[i].get_text() == nbb_unformatted_code) {\n",
       "                             nbb_cells[i].set_text(nbb_formatted_code);\n",
       "                        }\n",
       "                        break;\n",
       "                    }\n",
       "                }\n",
       "            }, 500);\n",
       "            "
      ],
      "text/plain": [
       "<IPython.core.display.Javascript object>"
      ]
     },
     "metadata": {},
     "output_type": "display_data"
    }
   ],
   "source": [
    "def rotate(x, y, angle_deg):\n",
    "    theta = np.radians(angle_deg)\n",
    "    x_new = (x * np.cos(theta)) - (y * np.sin(theta))\n",
    "    y_new = (x * np.sin(theta)) + (y * np.cos(theta))\n",
    "    return x_new, y_new\n",
    "\n",
    "\n",
    "def source_size(height, width, angle):\n",
    "    points = [(height, width), (height, -width), (-height, width), (-height, -width)]\n",
    "    rot_points = [rotate(*p, angle) for p in points]\n",
    "    h = max([abs(p[0]) for p in rot_points])\n",
    "    w = max([abs(p[1]) for p in rot_points])\n",
    "    return h, w\n",
    "\n",
    "\n",
    "def sim_source_positions(radius, angle, z_offset=0):\n",
    "    retval = []\n",
    "    for ang in [-angle, 0, angle]:\n",
    "        z, x = rotate(-1, 0, ang)\n",
    "        y = 0\n",
    "        pos = (radius * x, radius * y, radius * z + z_offset, 0, ang, 0)\n",
    "        retval.append(pos)\n",
    "    return retval\n",
    "\n",
    "\n",
    "polarization_angle = 0\n",
    "grid_angle = 0\n",
    "analysis_rays = 1e6\n",
    "zeroth = True\n",
    "illumination_phase = 0\n",
    "illumination_angle = 65\n",
    "illumination_z_offset = 0\n",
    "\n",
    "# SOURCE\n",
    "Jx, Jy = rotate(1, 0, polarization_angle)\n",
    "source_half_width, source_half_height = source_size(\n",
    "    detector_half_width, detector_half_height, grid_angle\n",
    ")\n",
    "sourceparameters = [\n",
    "    (1, 10),  # Layout rays\n",
    "    (2, analysis_rays),  # Analysis rays\n",
    "    (6, 1.1 * source_half_width),  # width\n",
    "    (7, 1.1 * source_half_height),  # height\n",
    "]\n",
    "sourcepos = sim_source_positions if zeroth else sim_source_positions_2d\n",
    "diff_order = [-1, 0, 1] if zeroth else [-1, 1]\n",
    "\n",
    "source_properties = [\n",
    "    [\n",
    "        (3, 1),  # inside of\n",
    "        (101, 1),  # raandoma polarixation\n",
    "        (107, k * illumination_phase),  # phase\n",
    "        # (103, Jx),  # Jones X\n",
    "        # (104, Jy),  # Jones Y\n",
    "    ]\n",
    "    for k in diff_order\n",
    "]\n",
    "\n",
    "for pos, prop in zip(\n",
    "    sourcepos(system_radius, illumination_angle, illumination_z_offset),\n",
    "    source_properties,\n",
    "):\n",
    "    macro.add(\n",
    "        NSCSource(\n",
    "            \"Source Rectangle\",\n",
    "            pos,\n",
    "            parameters=sourceparameters,\n",
    "            properties=prop,\n",
    "        )\n",
    "    )"
   ]
  },
  {
   "cell_type": "markdown",
   "metadata": {},
   "source": [
    "### Capillary"
   ]
  },
  {
   "cell_type": "code",
   "execution_count": 64,
   "metadata": {
    "ExecuteTime": {
     "end_time": "2021-01-15T11:23:11.393071Z",
     "start_time": "2021-01-15T11:23:11.321641Z"
    }
   },
   "outputs": [
    {
     "data": {
      "application/javascript": [
       "\n",
       "            setTimeout(function() {\n",
       "                var nbb_cell_id = 64;\n",
       "                var nbb_unformatted_code = \"def capillary_objects(\\n    radius, thickness, height, grid_angle, material=\\\"BK7\\\", buffer=\\\"WATER\\\"\\n):\\n    ro, ri = radius, radius - thickness\\n    assert ri > 0, \\\"Thickness cannot be larger than radius\\\"\\n\\n    dx = -np.sin(np.radians(grid_angle)) * height / 2\\n    dy = -(1 - np.cos(np.radians(grid_angle))) * height / 2\\n    outer_cylinder_params = [(1, ro), (2, height), (3, ro)]\\n    inner_cylinder_params = [(1, ri), (2, height), (3, ri)]\\n    outer_cylinder_properites = [(4, material)]\\n    inner_cylinder_properites = [(4, buffer)]\\n\\n    cyl_glass = NSCObject(\\n        \\\"Cylinder Volume\\\",\\n        (dx, height / 2 + dy, 0, 90, grid_angle, 0),\\n        parameters=outer_cylinder_params,\\n        properties=outer_cylinder_properites,\\n    )\\n\\n    cyl_buffer = NSCObject(\\n        \\\"Cylinder Volume\\\",\\n        (dx, height / 2 + dy, 0, 90, grid_angle, 0),\\n        parameters=inner_cylinder_params,\\n        properties=inner_cylinder_properites,\\n    )\\n\\n    return [cyl_glass, cyl_buffer]\\n\\n\\ncapillary = True\\ncapillary_material = \\\"BK7\\\"\\ncapillary_buffer = \\\"WATER\\\"\\ncapillary_radius = 0.007\\ncapillary_height = 0.05\\ncapillary_thickness = 0.001\\n# CYLINDER\\nif capillary:\\n    for c in capillary_objects(\\n        capillary_radius,\\n        capillary_thickness,\\n        capillary_height,\\n        grid_angle,\\n        material=capillary_material,\\n        buffer=capillary_buffer,\\n    ):\\n        macro.add(c)\";\n",
       "                var nbb_formatted_code = \"def capillary_objects(\\n    radius, thickness, height, grid_angle, material=\\\"BK7\\\", buffer=\\\"WATER\\\"\\n):\\n    ro, ri = radius, radius - thickness\\n    assert ri > 0, \\\"Thickness cannot be larger than radius\\\"\\n\\n    dx = -np.sin(np.radians(grid_angle)) * height / 2\\n    dy = -(1 - np.cos(np.radians(grid_angle))) * height / 2\\n    outer_cylinder_params = [(1, ro), (2, height), (3, ro)]\\n    inner_cylinder_params = [(1, ri), (2, height), (3, ri)]\\n    outer_cylinder_properites = [(4, material)]\\n    inner_cylinder_properites = [(4, buffer)]\\n\\n    cyl_glass = NSCObject(\\n        \\\"Cylinder Volume\\\",\\n        (dx, height / 2 + dy, 0, 90, grid_angle, 0),\\n        parameters=outer_cylinder_params,\\n        properties=outer_cylinder_properites,\\n    )\\n\\n    cyl_buffer = NSCObject(\\n        \\\"Cylinder Volume\\\",\\n        (dx, height / 2 + dy, 0, 90, grid_angle, 0),\\n        parameters=inner_cylinder_params,\\n        properties=inner_cylinder_properites,\\n    )\\n\\n    return [cyl_glass, cyl_buffer]\\n\\n\\ncapillary = True\\ncapillary_material = \\\"BK7\\\"\\ncapillary_buffer = \\\"WATER\\\"\\ncapillary_radius = 0.007\\ncapillary_height = 0.05\\ncapillary_thickness = 0.001\\n# CYLINDER\\nif capillary:\\n    for c in capillary_objects(\\n        capillary_radius,\\n        capillary_thickness,\\n        capillary_height,\\n        grid_angle,\\n        material=capillary_material,\\n        buffer=capillary_buffer,\\n    ):\\n        macro.add(c)\";\n",
       "                var nbb_cells = Jupyter.notebook.get_cells();\n",
       "                for (var i = 0; i < nbb_cells.length; ++i) {\n",
       "                    if (nbb_cells[i].input_prompt_number == nbb_cell_id) {\n",
       "                        if (nbb_cells[i].get_text() == nbb_unformatted_code) {\n",
       "                             nbb_cells[i].set_text(nbb_formatted_code);\n",
       "                        }\n",
       "                        break;\n",
       "                    }\n",
       "                }\n",
       "            }, 500);\n",
       "            "
      ],
      "text/plain": [
       "<IPython.core.display.Javascript object>"
      ]
     },
     "metadata": {},
     "output_type": "display_data"
    }
   ],
   "source": [
    "def capillary_objects(\n",
    "    radius, thickness, height, grid_angle, material=\"BK7\", buffer=\"WATER\"\n",
    "):\n",
    "    ro, ri = radius, radius - thickness\n",
    "    assert ri > 0, \"Thickness cannot be larger than radius\"\n",
    "\n",
    "    dx = -np.sin(np.radians(grid_angle)) * height / 2\n",
    "    dy = -(1 - np.cos(np.radians(grid_angle))) * height / 2\n",
    "    outer_cylinder_params = [(1, ro), (2, height), (3, ro)]\n",
    "    inner_cylinder_params = [(1, ri), (2, height), (3, ri)]\n",
    "    outer_cylinder_properites = [(4, material)]\n",
    "    inner_cylinder_properites = [(4, buffer)]\n",
    "\n",
    "    cyl_glass = NSCObject(\n",
    "        \"Cylinder Volume\",\n",
    "        (dx, height / 2 + dy, 0, 90, grid_angle, 0),\n",
    "        parameters=outer_cylinder_params,\n",
    "        properties=outer_cylinder_properites,\n",
    "    )\n",
    "\n",
    "    cyl_buffer = NSCObject(\n",
    "        \"Cylinder Volume\",\n",
    "        (dx, height / 2 + dy, 0, 90, grid_angle, 0),\n",
    "        parameters=inner_cylinder_params,\n",
    "        properties=inner_cylinder_properites,\n",
    "    )\n",
    "\n",
    "    return [cyl_glass, cyl_buffer]\n",
    "\n",
    "\n",
    "capillary = True\n",
    "capillary_material = \"BK7\"\n",
    "capillary_buffer = \"WATER\"\n",
    "capillary_radius = 0.007\n",
    "capillary_height = 0.05\n",
    "capillary_thickness = 0.001\n",
    "# CYLINDER\n",
    "if capillary:\n",
    "    for c in capillary_objects(\n",
    "        capillary_radius,\n",
    "        capillary_thickness,\n",
    "        capillary_height,\n",
    "        grid_angle,\n",
    "        material=capillary_material,\n",
    "        buffer=capillary_buffer,\n",
    "    ):\n",
    "        macro.add(c)"
   ]
  },
  {
   "cell_type": "markdown",
   "metadata": {},
   "source": [
    "### Dectector"
   ]
  },
  {
   "cell_type": "code",
   "execution_count": 65,
   "metadata": {
    "ExecuteTime": {
     "end_time": "2021-01-15T11:23:12.164707Z",
     "start_time": "2021-01-15T11:23:12.105752Z"
    }
   },
   "outputs": [
    {
     "data": {
      "application/javascript": [
       "\n",
       "            setTimeout(function() {\n",
       "                var nbb_cell_id = 65;\n",
       "                var nbb_unformatted_code = \"resolution_width = 512\\nresolution_height = 512 / 8\\ndetector_half_width = 0.007\\ndetector_half_height = 0.007 / 8\\n# DETECTOR\\ndetectorparameters = [\\n    (1, detector_half_width),\\n    (2, detector_half_height),\\n    (3, resolution_width),\\n    (4, resolution_height),\\n]\\nfor i in range(n_detectors):\\n    macro.add(\\n        NSCDetector(\\n            \\\"Detector Rectangle\\\",\\n            (0, 0, 0, 0, 0, grid_angle),\\n            parameters=detectorparameters,\\n        )\\n    )\";\n",
       "                var nbb_formatted_code = \"resolution_width = 512\\nresolution_height = 512 / 8\\ndetector_half_width = 0.007\\ndetector_half_height = 0.007 / 8\\n# DETECTOR\\ndetectorparameters = [\\n    (1, detector_half_width),\\n    (2, detector_half_height),\\n    (3, resolution_width),\\n    (4, resolution_height),\\n]\\nfor i in range(n_detectors):\\n    macro.add(\\n        NSCDetector(\\n            \\\"Detector Rectangle\\\",\\n            (0, 0, 0, 0, 0, grid_angle),\\n            parameters=detectorparameters,\\n        )\\n    )\";\n",
       "                var nbb_cells = Jupyter.notebook.get_cells();\n",
       "                for (var i = 0; i < nbb_cells.length; ++i) {\n",
       "                    if (nbb_cells[i].input_prompt_number == nbb_cell_id) {\n",
       "                        if (nbb_cells[i].get_text() == nbb_unformatted_code) {\n",
       "                             nbb_cells[i].set_text(nbb_formatted_code);\n",
       "                        }\n",
       "                        break;\n",
       "                    }\n",
       "                }\n",
       "            }, 500);\n",
       "            "
      ],
      "text/plain": [
       "<IPython.core.display.Javascript object>"
      ]
     },
     "metadata": {},
     "output_type": "display_data"
    }
   ],
   "source": [
    "resolution_width = 512\n",
    "resolution_height = 512 / 8\n",
    "detector_half_width = 0.007\n",
    "detector_half_height = 0.007 / 8\n",
    "# DETECTOR\n",
    "detectorparameters = [\n",
    "    (1, detector_half_width),\n",
    "    (2, detector_half_height),\n",
    "    (3, resolution_width),\n",
    "    (4, resolution_height),\n",
    "]\n",
    "for i in range(n_detectors):\n",
    "    macro.add(\n",
    "        NSCDetector(\n",
    "            \"Detector Rectangle\",\n",
    "            (0, 0, 0, 0, 0, grid_angle),\n",
    "            parameters=detectorparameters,\n",
    "        )\n",
    "    )"
   ]
  },
  {
   "cell_type": "code",
   "execution_count": 66,
   "metadata": {
    "ExecuteTime": {
     "end_time": "2021-01-15T11:23:12.764632Z",
     "start_time": "2021-01-15T11:23:12.715481Z"
    }
   },
   "outputs": [
    {
     "data": {
      "application/javascript": [
       "\n",
       "            setTimeout(function() {\n",
       "                var nbb_cell_id = 66;\n",
       "                var nbb_unformatted_code = \"macro.clear()\\nmacro.initialize_objects()\\nmacro.update()\";\n",
       "                var nbb_formatted_code = \"macro.clear()\\nmacro.initialize_objects()\\nmacro.update()\";\n",
       "                var nbb_cells = Jupyter.notebook.get_cells();\n",
       "                for (var i = 0; i < nbb_cells.length; ++i) {\n",
       "                    if (nbb_cells[i].input_prompt_number == nbb_cell_id) {\n",
       "                        if (nbb_cells[i].get_text() == nbb_unformatted_code) {\n",
       "                             nbb_cells[i].set_text(nbb_formatted_code);\n",
       "                        }\n",
       "                        break;\n",
       "                    }\n",
       "                }\n",
       "            }, 500);\n",
       "            "
      ],
      "text/plain": [
       "<IPython.core.display.Javascript object>"
      ]
     },
     "metadata": {},
     "output_type": "display_data"
    }
   ],
   "source": [
    "macro.clear()\n",
    "macro.initialize_objects()\n",
    "macro.update()"
   ]
  },
  {
   "cell_type": "markdown",
   "metadata": {},
   "source": [
    "### Define measurements"
   ]
  },
  {
   "cell_type": "code",
   "execution_count": 67,
   "metadata": {
    "ExecuteTime": {
     "end_time": "2021-01-15T11:23:13.508007Z",
     "start_time": "2021-01-15T11:23:13.447588Z"
    }
   },
   "outputs": [
    {
     "data": {
      "application/javascript": [
       "\n",
       "            setTimeout(function() {\n",
       "                var nbb_cell_id = 67;\n",
       "                var nbb_unformatted_code = \"folder = Path(os.getcwd()) / \\\"temp\\\"\\nddr_file = folder / \\\"sim2d_ref.DDR\\\"\\nmacro.clear_detectors()\\nmacro.nstr()\\nmacro.savedetector(macro.object_index(NSCDetector)[0], folder / \\\"sim2d_ref.DDR\\\")\";\n",
       "                var nbb_formatted_code = \"folder = Path(os.getcwd()) / \\\"temp\\\"\\nddr_file = folder / \\\"sim2d_ref.DDR\\\"\\nmacro.clear_detectors()\\nmacro.nstr()\\nmacro.savedetector(macro.object_index(NSCDetector)[0], folder / \\\"sim2d_ref.DDR\\\")\";\n",
       "                var nbb_cells = Jupyter.notebook.get_cells();\n",
       "                for (var i = 0; i < nbb_cells.length; ++i) {\n",
       "                    if (nbb_cells[i].input_prompt_number == nbb_cell_id) {\n",
       "                        if (nbb_cells[i].get_text() == nbb_unformatted_code) {\n",
       "                             nbb_cells[i].set_text(nbb_formatted_code);\n",
       "                        }\n",
       "                        break;\n",
       "                    }\n",
       "                }\n",
       "            }, 500);\n",
       "            "
      ],
      "text/plain": [
       "<IPython.core.display.Javascript object>"
      ]
     },
     "metadata": {},
     "output_type": "display_data"
    }
   ],
   "source": [
    "folder = Path(os.getcwd()) / \"temp\"\n",
    "ddr_file = folder / \"sim2d_ref.DDR\"\n",
    "macro.clear_detectors()\n",
    "macro.nstr()\n",
    "macro.savedetector(macro.object_index(NSCDetector)[0], folder / \"sim2d_ref.DDR\")"
   ]
  },
  {
   "cell_type": "code",
   "execution_count": 68,
   "metadata": {
    "ExecuteTime": {
     "end_time": "2021-01-15T11:23:14.233612Z",
     "start_time": "2021-01-15T11:23:14.178725Z"
    },
    "scrolled": false
   },
   "outputs": [
    {
     "name": "stdout",
     "output_type": "stream",
     "text": [
      "! NCXT NSC Generator Macro\n",
      "! Axel EKman\n",
      "\n",
      "! this part is used to clear the NSC editor\n",
      "totalobjNum = NOBJ(1)\n",
      "for i, totalobjNum, 1, -1\n",
      "    DELETEOBJECT 1, i\n",
      "next\n",
      "\n",
      "!Insert objects\n",
      "INSERTOBJECT 1,1\n",
      "INSERTOBJECT 1,1\n",
      "INSERTOBJECT 1,1\n",
      "INSERTOBJECT 1,1\n",
      "INSERTOBJECT 1,1\n",
      "INSERTOBJECT 1,1\n",
      "INSERTOBJECT 1,1\n",
      "\n",
      "!Set Object parameters\n",
      "SETNSCPROPERTY 1, 1, 0, 0, \"NSC_SPHE\"\n",
      "SETNSCPOSITION 1, 1, 1, 0\n",
      "SETNSCPOSITION 1, 1, 2, 0\n",
      "SETNSCPOSITION 1, 1, 3, 0\n",
      "SETNSCPOSITION 1, 1, 4, 0\n",
      "SETNSCPOSITION 1, 1, 5, 0\n",
      "SETNSCPOSITION 1, 1, 6, 0\n",
      "SETNSCPARAMETER 1, 1, 1, 0.2\n",
      "SETNSCPARAMETER 1, 1, 2, 1\n",
      "SETNSCPROPERTY 1, 1, 141, 0, 1\n",
      "SETNSCPROPERTY 1, 1, 4, 0, WATER\n",
      "\n",
      "SETNSCPROPERTY 1, 2, 0, 0, \"NSC_SRCR\"\n",
      "SETNSCPOSITION 1, 2, 1, 0.09063\n",
      "SETNSCPOSITION 1, 2, 2, 0\n",
      "SETNSCPOSITION 1, 2, 3, -0.04226\n",
      "SETNSCPOSITION 1, 2, 4, 0\n",
      "SETNSCPOSITION 1, 2, 5, -65\n",
      "SETNSCPOSITION 1, 2, 6, 0\n",
      "SETNSCPARAMETER 1, 2, 1, 10\n",
      "SETNSCPARAMETER 1, 2, 2, 1e+06\n",
      "SETNSCPARAMETER 1, 2, 6, 0.0077\n",
      "SETNSCPARAMETER 1, 2, 7, 0.0009625\n",
      "SETNSCPROPERTY 1, 2, 3, 0, 1\n",
      "SETNSCPROPERTY 1, 2, 101, 0, 1\n",
      "SETNSCPROPERTY 1, 2, 107, 0, 0\n",
      "\n",
      "SETNSCPROPERTY 1, 3, 0, 0, \"NSC_SRCR\"\n",
      "SETNSCPOSITION 1, 3, 1, 0\n",
      "SETNSCPOSITION 1, 3, 2, 0\n",
      "SETNSCPOSITION 1, 3, 3, -0.1\n",
      "SETNSCPOSITION 1, 3, 4, 0\n",
      "SETNSCPOSITION 1, 3, 5, 0\n",
      "SETNSCPOSITION 1, 3, 6, 0\n",
      "SETNSCPARAMETER 1, 3, 1, 10\n",
      "SETNSCPARAMETER 1, 3, 2, 1e+06\n",
      "SETNSCPARAMETER 1, 3, 6, 0.0077\n",
      "SETNSCPARAMETER 1, 3, 7, 0.0009625\n",
      "SETNSCPROPERTY 1, 3, 3, 0, 1\n",
      "SETNSCPROPERTY 1, 3, 101, 0, 1\n",
      "SETNSCPROPERTY 1, 3, 107, 0, 0\n",
      "\n",
      "SETNSCPROPERTY 1, 4, 0, 0, \"NSC_SRCR\"\n",
      "SETNSCPOSITION 1, 4, 1, -0.09063\n",
      "SETNSCPOSITION 1, 4, 2, 0\n",
      "SETNSCPOSITION 1, 4, 3, -0.04226\n",
      "SETNSCPOSITION 1, 4, 4, 0\n",
      "SETNSCPOSITION 1, 4, 5, 65\n",
      "SETNSCPOSITION 1, 4, 6, 0\n",
      "SETNSCPARAMETER 1, 4, 1, 10\n",
      "SETNSCPARAMETER 1, 4, 2, 1e+06\n",
      "SETNSCPARAMETER 1, 4, 6, 0.0077\n",
      "SETNSCPARAMETER 1, 4, 7, 0.0009625\n",
      "SETNSCPROPERTY 1, 4, 3, 0, 1\n",
      "SETNSCPROPERTY 1, 4, 101, 0, 1\n",
      "SETNSCPROPERTY 1, 4, 107, 0, 0\n",
      "\n",
      "SETNSCPROPERTY 1, 5, 0, 0, \"NSC_CBLK\"\n",
      "SETNSCPOSITION 1, 5, 1, -0\n",
      "SETNSCPOSITION 1, 5, 2, 0.025\n",
      "SETNSCPOSITION 1, 5, 3, 0\n",
      "SETNSCPOSITION 1, 5, 4, 90\n",
      "SETNSCPOSITION 1, 5, 5, 0\n",
      "SETNSCPOSITION 1, 5, 6, 0\n",
      "SETNSCPARAMETER 1, 5, 1, 0.007\n",
      "SETNSCPARAMETER 1, 5, 2, 0.05\n",
      "SETNSCPARAMETER 1, 5, 3, 0.007\n",
      "SETNSCPROPERTY 1, 5, 4, 0, BK7\n",
      "\n",
      "SETNSCPROPERTY 1, 6, 0, 0, \"NSC_CBLK\"\n",
      "SETNSCPOSITION 1, 6, 1, -0\n",
      "SETNSCPOSITION 1, 6, 2, 0.025\n",
      "SETNSCPOSITION 1, 6, 3, 0\n",
      "SETNSCPOSITION 1, 6, 4, 90\n",
      "SETNSCPOSITION 1, 6, 5, 0\n",
      "SETNSCPOSITION 1, 6, 6, 0\n",
      "SETNSCPARAMETER 1, 6, 1, 0.006\n",
      "SETNSCPARAMETER 1, 6, 2, 0.05\n",
      "SETNSCPARAMETER 1, 6, 3, 0.006\n",
      "SETNSCPROPERTY 1, 6, 4, 0, WATER\n",
      "\n",
      "SETNSCPROPERTY 1, 7, 0, 0, \"NSC_DETE\"\n",
      "SETNSCPOSITION 1, 7, 1, 0\n",
      "SETNSCPOSITION 1, 7, 2, 0\n",
      "SETNSCPOSITION 1, 7, 3, 0\n",
      "SETNSCPOSITION 1, 7, 4, 0\n",
      "SETNSCPOSITION 1, 7, 5, 0\n",
      "SETNSCPOSITION 1, 7, 6, 0\n",
      "SETNSCPARAMETER 1, 7, 1, 0.007\n",
      "SETNSCPARAMETER 1, 7, 2, 0.000875\n",
      "SETNSCPARAMETER 1, 7, 3, 512\n",
      "SETNSCPARAMETER 1, 7, 4, 64\n",
      "\n",
      "UPDATE ALL\n",
      "temp = NSDD(1,0,0,0)\n",
      "NSTR 1, 0, 1, 1, 1, 1, 0, 1\n",
      "SAVEDETECTOR 1, 7, \"C:\\Users\\axela\\Documents\\GitHub\\pyzemax\\temp\\sim2d_ref.DDR\"\n"
     ]
    },
    {
     "data": {
      "application/javascript": [
       "\n",
       "            setTimeout(function() {\n",
       "                var nbb_cell_id = 68;\n",
       "                var nbb_unformatted_code = \"print(macro)\";\n",
       "                var nbb_formatted_code = \"print(macro)\";\n",
       "                var nbb_cells = Jupyter.notebook.get_cells();\n",
       "                for (var i = 0; i < nbb_cells.length; ++i) {\n",
       "                    if (nbb_cells[i].input_prompt_number == nbb_cell_id) {\n",
       "                        if (nbb_cells[i].get_text() == nbb_unformatted_code) {\n",
       "                             nbb_cells[i].set_text(nbb_formatted_code);\n",
       "                        }\n",
       "                        break;\n",
       "                    }\n",
       "                }\n",
       "            }, 500);\n",
       "            "
      ],
      "text/plain": [
       "<IPython.core.display.Javascript object>"
      ]
     },
     "metadata": {},
     "output_type": "display_data"
    }
   ],
   "source": [
    "print(macro)"
   ]
  },
  {
   "cell_type": "markdown",
   "metadata": {},
   "source": [
    "### Run macro via OS command line\n",
    "- if argument, saves macro to folder, else initializes a temp file"
   ]
  },
  {
   "cell_type": "code",
   "execution_count": null,
   "metadata": {
    "ExecuteTime": {
     "start_time": "2021-01-15T11:23:16.119Z"
    }
   },
   "outputs": [
    {
     "name": "stdout",
     "output_type": "stream",
     "text": [
      "Saving at  C:\\Users\\axela\\Documents\\GitHub\\pyzemax\\__temp.zpl\n"
     ]
    }
   ],
   "source": [
    "_ = macro.run()"
   ]
  },
  {
   "cell_type": "code",
   "execution_count": null,
   "metadata": {
    "ExecuteTime": {
     "start_time": "2021-01-15T11:23:16.668Z"
    }
   },
   "outputs": [],
   "source": [
    "def plot_profile(data):\n",
    "    f, (ax1, ax2, ax3) = plt.subplots(3, 1, figsize=(13, 6), sharex=True)\n",
    "\n",
    "    ax1.imshow(incoherent_irradiance(data))\n",
    "    ax2.imshow(coherent_irradiance(data))\n",
    "\n",
    "    ax1.set_title(\"Incoherent irradiance\")\n",
    "    ax2.set_title(\"Coherent irradiance\")\n",
    "\n",
    "    ax3.plot(np.sum(incoherent_irradiance(data), 0))\n",
    "    ax3.plot(np.sum(coherent_irradiance(data), 0))\n",
    "    #     fix fgraph aspect to match image\n",
    "    asp = np.diff(ax3.get_xlim())[0] / np.diff(ax3.get_ylim())[0]\n",
    "    asp /= np.abs(np.diff(ax1.get_xlim())[0] / np.diff(ax1.get_ylim())[0])\n",
    "    ax3.set_aspect(asp)\n",
    "\n",
    "    ax3.set_xlim(0, 511)\n",
    "\n",
    "\n",
    "image_data = read_ddr(ddr_file)\n",
    "plot_profile(image_data)"
   ]
  },
  {
   "cell_type": "code",
   "execution_count": null,
   "metadata": {},
   "outputs": [],
   "source": []
  }
 ],
 "metadata": {
  "kernelspec": {
   "display_name": "Python 3",
   "language": "python",
   "name": "python3"
  },
  "language_info": {
   "codemirror_mode": {
    "name": "ipython",
    "version": 3
   },
   "file_extension": ".py",
   "mimetype": "text/x-python",
   "name": "python",
   "nbconvert_exporter": "python",
   "pygments_lexer": "ipython3",
   "version": "3.8.5"
  }
 },
 "nbformat": 4,
 "nbformat_minor": 4
}
